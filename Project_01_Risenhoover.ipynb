{
 "cells": [
  {
   "cell_type": "markdown",
   "metadata": {},
   "source": [
    "## DSCI 303 - Project 1\n",
    "\n",
    "**Samuel Risenhoover**\n",
    "\n",
    "**Due: Sunday, May 17, 11:59 pm**"
   ]
  },
  {
   "cell_type": "markdown",
   "metadata": {},
   "source": [
    "## Introduction \n",
    "\n",
    "In this project, you will work with a dataset containing socioeconomic data for 184 countries over a period of 219 years, from 1800 to 2018. The data you will be working with is contained in the file `gapminder_data.txt`. Please download this file into the same folder that contains this notebook. \n",
    "\n",
    "The cell below loads the dataset into Python and then uses it to create several lists. Please run that cell as-is. We will explain the purpose of each of these lists in a moment. \n"
   ]
  },
  {
   "cell_type": "code",
   "execution_count": 1,
   "metadata": {},
   "outputs": [],
   "source": [
    "import random\n",
    "import pandas as pd\n",
    "df = pd.read_csv('gapminder_data.txt', sep='\\t')\n",
    "country = list(df['country'])\n",
    "continent = list(df['continent'])\n",
    "year = list(df['year'])\n",
    "pop = list(df['population'])\n",
    "life_exp = list(df['life_exp'])\n",
    "pcgdp = list(df['gdp_per_cap'])\n",
    "gini = list(df['gini'])\n",
    "df = None"
   ]
  },
  {
   "cell_type": "markdown",
   "metadata": {},
   "source": [
    "The cell above created several lists. The purpose of each of those lists is described below. \n",
    "\n",
    "* **country** - This list contains the names of the 184 countries. Each country appears in the list 219 times - once for each year for which data was collected. \n",
    "* **continent** - Each element of this list records the continental region in which the associated country belongs. There are four continential regions in this dataset: `'africa'`, `'americas'`, `'asia'`, and `'europe'`. \n",
    "* **year** - This list contains the year during which that particular record was collected. \n",
    "* **pop** - Each element in this list is the population of a given country in a given year. \n",
    "* **life_exp** - Each element in this list is the average life expectency in a given country in a given year. \n",
    "* **pcgdp** - Each element in this list is the per capita GDP of a given country in a given year. GDP is a measure of the economic output of a country. The per capita GDP is the total GDP of the country divided by the population. \n",
    "\n",
    "The elements of the lists are associated with one another as follows: `country[i]` is in `continent[i]`. During `year[i]`, `country[i]` had a population of `pop[i]`, a per capita GDP of `pcgdp[i]`, and an average life expectency of `lifexp[i]`. \n",
    "\n",
    "The cell below prints the values of each list for a randomly generated index. Run this a few times to get a sense as to what the data looks like. \n"
   ]
  },
  {
   "cell_type": "code",
   "execution_count": 2,
   "metadata": {},
   "outputs": [
    {
     "name": "stdout",
     "output_type": "stream",
     "text": [
      "Index: 24865\n",
      "Country: Burkina Faso\n",
      "Year: 1935\n",
      "Population: 3840000\n",
      "Continent: africa\n",
      "Life Expectancy: 31.8\n",
      "GDP Per Capita: 532\n"
     ]
    }
   ],
   "source": [
    "n = random.choice(range(len(pop)))\n",
    "\n",
    "print('Index: ' + str(n))\n",
    "print('Country: ' + str(country[n]))\n",
    "print('Year: ' + str(year[n]))\n",
    "print('Population: ' + str(pop[n]))\n",
    "print('Continent: ' + str(continent[n]))\n",
    "print('Life Expectancy: ' + str(life_exp[n]))\n",
    "print('GDP Per Capita: ' + str(pcgdp[n]))"
   ]
  },
  {
   "cell_type": "markdown",
   "metadata": {},
   "source": [
    "## Part A: Past 20 Years of US Data\n",
    "\n",
    "Print the population, life expectency, and per capita GDP in the United States for every year since 1999. The information should be arranged in columns, with a header explaining what the columns mean. Use 4 spaces to seperate the values in adjacent columns. The first few rows of your output should look exactly as follows:\n",
    "\n",
    "    Year    Country          Pop.         LExp    pcGDP\n",
    "    ---------------------------------------------------\n",
    "    1999    United States    279000000    76.8    44700\n",
    "    2000    United States    282000000    76.9    46000\n",
    "    \n",
    "You can accomplish this by looping over the records. With each new record considered, check to see if the year for the record is greater than or equal to 1999, and if the country associated with the record is equal to `'United States'`. If both criteria are true, then print the record as a new row in the output. \n"
   ]
  },
  {
   "cell_type": "code",
   "execution_count": 3,
   "metadata": {},
   "outputs": [
    {
     "name": "stdout",
     "output_type": "stream",
     "text": [
      "Year    Country          Pop.         LExp    pcGDP\n",
      "---------------------------------------------------\n",
      "1999    United States    279000000    76.8    44700\n",
      "2000    United States    282000000    76.9    46000\n",
      "2001    United States    285000000    77.0    46000\n",
      "2002    United States    288000000    77.1    46400\n",
      "2003    United States    290000000    77.3    47300\n",
      "2004    United States    293000000    77.5    48600\n",
      "2005    United States    295000000    77.7    49800\n",
      "2006    United States    298000000    77.9    50600\n",
      "2007    United States    301000000    78.1    51000\n",
      "2008    United States    303000000    78.3    50400\n",
      "2009    United States    306000000    78.6    48600\n",
      "2010    United States    309000000    78.7    49400\n",
      "2011    United States    311000000    78.8    49800\n",
      "2012    United States    313000000    78.9    50500\n",
      "2013    United States    316000000    78.9    51000\n",
      "2014    United States    318000000    78.9    51800\n",
      "2015    United States    320000000    78.8    52800\n",
      "2016    United States    322000000    78.8    53300\n",
      "2017    United States    324000000    79.0    54200\n",
      "2018    United States    327000000    79.1    54900\n"
     ]
    }
   ],
   "source": [
    "print(\"Year    \" + \"Country          \" + \"Pop.         \" + \"LExp    \" + \"pcGDP\"\n",
    "      +\n",
    "     \"\\n---------------------------------------------------\"\n",
    "      \n",
    "     )\n",
    "for i in range(0,len(year)):\n",
    "    if year[i] >= 1999 and country[i] == \"United States\":\n",
    "        print(\n",
    "            str(year[i]),\n",
    "            str(country[i]),\n",
    "            str(pop[i]),\n",
    "            str(life_exp[i]),\n",
    "            str(pcgdp[i]),\n",
    "            sep = \"    \"\n",
    "        )\n",
    "    "
   ]
  },
  {
   "cell_type": "markdown",
   "metadata": {},
   "source": [
    "## Part B: Select the 2018 Data\n",
    "\n",
    "From this point on in this project, we will only be interested in the data for the year 2018. We will now create six new lists, each of which will contain 2018 data for each of the 184 countries. \n",
    "\n",
    "In the cell below: \n",
    "\n",
    "1. Create six new lists named: **`country_2018`**, **`year_2018`**, **`pop_2018`**, **`continent_2018`**, **`life_exp_2018`**, and  **`pcgdp_2018`**.\n",
    "2. These six lists should initially be empty, but should will ulimately contain the records from 2018. \n",
    "3. Build the new lists by looping over the six original lists. At each iteration of the loop, check to see if the associated record is from 2018. It is is, store each piece of the record in one of the six new lists. "
   ]
  },
  {
   "cell_type": "code",
   "execution_count": 4,
   "metadata": {},
   "outputs": [],
   "source": [
    "country_2018 = []\n",
    "year_2018 = []\n",
    "pop_2018 = []\n",
    "continent_2018 = []\n",
    "life_exp_2018 = []\n",
    "pcgdp_2018 = []\n",
    "\n",
    "for i in range(0, len(year)):\n",
    "    if year[i] == 2018:\n",
    "        tempc = country[i]\n",
    "        tempy = year[i]\n",
    "        tempp = pop[i]\n",
    "        tempC = continent[i]\n",
    "        templ = life_exp[i]\n",
    "        tempg = pcgdp[i]\n",
    "        country_2018.append(tempc)\n",
    "        year_2018.append(tempy)\n",
    "        pop_2018.append(tempp)\n",
    "        continent_2018.append(tempC)\n",
    "        life_exp_2018.append(templ)\n",
    "        pcgdp_2018.append(tempg)\n",
    "        "
   ]
  },
  {
   "cell_type": "markdown",
   "metadata": {},
   "source": [
    "Create a variable named `total_pop_2018`. Set this equal to the sum of the list `pop_2018`. Print the value of this variable. If the 2018 lists were created correctly, you should get a total global population of 7,595,200,200 for 2018."
   ]
  },
  {
   "cell_type": "code",
   "execution_count": 5,
   "metadata": {},
   "outputs": [
    {
     "name": "stdout",
     "output_type": "stream",
     "text": [
      "7595200200\n"
     ]
    }
   ],
   "source": [
    "total_pop_2018 = sum(pop_2018)\n",
    "print(total_pop_2018)"
   ]
  },
  {
   "cell_type": "markdown",
   "metadata": {},
   "source": [
    "## Part C: Largest and Smallest Populations\n",
    "\n",
    "Use the cell below to display a list of countries that had a population greater than 100 million in 2018. The first few rows of your output should appear as follows:\n",
    "\n",
    "\n",
    "    Countries with population greater than 100 million\n",
    "    --------------------------------------------------\n",
    "    The population of Bangladesh in 2018 was 166000000.\n",
    "    The population of Brazil in 2018 was 211000000.\n",
    "\n"
   ]
  },
  {
   "cell_type": "code",
   "execution_count": 6,
   "metadata": {},
   "outputs": [
    {
     "name": "stdout",
     "output_type": "stream",
     "text": [
      "Countries with population greater than 100 million \n",
      "--------------------------------------------------\n",
      "The population of Bangladesh in 2018 was 166000000.\n",
      "The population of Brazil in 2018 was 211000000.\n",
      "The population of China in 2018 was 1420000000.\n",
      "The population of Ethiopia in 2018 was 108000000.\n",
      "The population of India in 2018 was 1350000000.\n",
      "The population of Indonesia in 2018 was 267000000.\n",
      "The population of Japan in 2018 was 127000000.\n",
      "The population of Mexico in 2018 was 131000000.\n",
      "The population of Nigeria in 2018 was 196000000.\n",
      "The population of Pakistan in 2018 was 201000000.\n",
      "The population of Philippines in 2018 was 107000000.\n",
      "The population of Russia in 2018 was 144000000.\n",
      "The population of United States in 2018 was 327000000.\n"
     ]
    }
   ],
   "source": [
    "print(\"Countries with population greater than 100 million\", \n",
    "      \"\\n--------------------------------------------------\"\n",
    "\n",
    ")\n",
    "\n",
    "for i in range(0, len(pop_2018)):\n",
    "    if pop_2018[i] > 100000000:\n",
    "        print(\n",
    "            \"The population of \", country_2018[i],\n",
    "            \" in 2018 was \", str(pop_2018[i]), \".\", sep = \"\"\n",
    "            )"
   ]
  },
  {
   "cell_type": "markdown",
   "metadata": {},
   "source": [
    "Use the cell below to display a list of countries that had a population less than 1/2 million in 2018. The first few rows of your output should appear as follows:\n",
    "\n",
    "\n",
    "    Countries with population less than 1/2 million\n",
    "    -----------------------------------------------\n",
    "    The population of Antigua and Barbuda in 2018 was 103000.\n",
    "    The population of Bahamas in 2018 was 399000.\n",
    "    \n",
    "    "
   ]
  },
  {
   "cell_type": "code",
   "execution_count": 7,
   "metadata": {},
   "outputs": [
    {
     "name": "stdout",
     "output_type": "stream",
     "text": [
      "Countries with population less than 1/2 million\n",
      "-----------------------------------------------\n",
      "The population of Antigua and Barbuda in 2018 was 103000.\n",
      "The population of Bahamas in 2018 was 399000.\n",
      "The population of Barbados in 2018 was 286000.\n",
      "The population of Belize in 2018 was 382000.\n",
      "The population of Brunei in 2018 was 434000.\n",
      "The population of Grenada in 2018 was 108000.\n",
      "The population of Iceland in 2018 was 338000.\n",
      "The population of Kiribati in 2018 was 118000.\n",
      "The population of Maldives in 2018 was 444000.\n",
      "The population of Malta in 2018 was 432000.\n",
      "The population of Micronesia, Fed. Sts. in 2018 was 106000.\n",
      "The population of Samoa in 2018 was 198000.\n",
      "The population of Sao Tome and Principe in 2018 was 209000.\n",
      "The population of Seychelles in 2018 was 95200.\n",
      "The population of St. Lucia in 2018 was 180000.\n",
      "The population of St. Vincent and the Grenadines in 2018 was 110000.\n",
      "The population of Tonga in 2018 was 109000.\n",
      "The population of Vanuatu in 2018 was 282000.\n"
     ]
    }
   ],
   "source": [
    "print(\"Countries with population less than 1/2 million\" +\n",
    "      \"\\n-----------------------------------------------\")\n",
    "\n",
    "for i in range(0, len(pop_2018)):\n",
    "    if pop_2018[i] < 500000:\n",
    "        print( \"The population of \", country_2018[i],\n",
    "            \" in 2018 was \", str(pop_2018[i]), \".\", sep = \"\"\n",
    "        )"
   ]
  },
  {
   "cell_type": "markdown",
   "metadata": {},
   "source": [
    "## Part D: Highest and Lowest Life Expectencies\n",
    "\n",
    "Use the cell below to display a list of countries that had an average life expectency greater than 82 years in 2018. The first few rows of your output should appear as follows:\n",
    "\n",
    "\n",
    "    Countries with Life Expectency greater than 82 years\n",
    "    ----------------------------------------------------\n",
    "    The life expectancy in Australia in 2018 was 82.9 years.\n",
    "    The life expectancy in Canada in 2018 was 82.2 years.\n",
    "    \n",
    "    "
   ]
  },
  {
   "cell_type": "code",
   "execution_count": 8,
   "metadata": {},
   "outputs": [
    {
     "name": "stdout",
     "output_type": "stream",
     "text": [
      "Countries with life Expectancy greater than 82 years\n",
      "----------------------------------------------------\n",
      "The life expectancy in Australia in 2018 was 82.9 years.\n",
      "The life expectancy in Canada in 2018 was 82.2 years.\n",
      "The life expectancy in Finland in 2018 was 82.1 years.\n",
      "The life expectancy in France in 2018 was 82.6 years.\n",
      "The life expectancy in Iceland in 2018 was 82.6 years.\n",
      "The life expectancy in Israel in 2018 was 82.4 years.\n",
      "The life expectancy in Italy in 2018 was 82.6 years.\n",
      "The life expectancy in Japan in 2018 was 84.2 years.\n",
      "The life expectancy in Luxembourg in 2018 was 82.4 years.\n",
      "The life expectancy in Norway in 2018 was 82.4 years.\n",
      "The life expectancy in Singapore in 2018 was 84.0 years.\n",
      "The life expectancy in Spain in 2018 was 83.2 years.\n",
      "The life expectancy in Sweden in 2018 was 82.4 years.\n",
      "The life expectancy in Switzerland in 2018 was 83.5 years.\n"
     ]
    }
   ],
   "source": [
    "print(\"Countries with life Expectancy greater than 82 years\" +\n",
    "      \"\\n----------------------------------------------------\"\n",
    "     )\n",
    "\n",
    "for i in range(0, len(life_exp_2018)):\n",
    "    if life_exp_2018[i] > 82:\n",
    "        print(\n",
    "            \"The life expectancy in \" + country_2018[i] + \n",
    "            \" in 2018 was \" + str(life_exp_2018[i]) + \" years.\"\n",
    "        )"
   ]
  },
  {
   "cell_type": "markdown",
   "metadata": {},
   "source": [
    "Use the cell below to display a list of countries that had an average life expectency less than 60 years in 2018. The first few rows of your output should appear as follows:"
   ]
  },
  {
   "cell_type": "code",
   "execution_count": 9,
   "metadata": {},
   "outputs": [
    {
     "name": "stdout",
     "output_type": "stream",
     "text": [
      "Countries with life Expectancy less than 60 years\n",
      "-------------------------------------------------\n",
      "The life expectancy in Afghanistan in 2018 was 58.7 years.\n",
      "The life expectancy in Central African Republic in 2018 was 51.6 years.\n",
      "The life expectancy in Guinea-Bissau in 2018 was 59.7 years.\n",
      "The life expectancy in Lesotho in 2018 was 51.1 years.\n",
      "The life expectancy in Somalia in 2018 was 58.0 years.\n",
      "The life expectancy in Swaziland in 2018 was 58.6 years.\n",
      "The life expectancy in Zambia in 2018 was 59.5 years.\n"
     ]
    }
   ],
   "source": [
    "print(\"Countries with life Expectancy less than 60 years\" +\n",
    "      \"\\n-------------------------------------------------\"\n",
    "     )\n",
    "\n",
    "for i in range(0, len(life_exp_2018)):\n",
    "    if life_exp_2018[i] < 60:\n",
    "        print(\n",
    "            \"The life expectancy in \" + country_2018[i] + \n",
    "            \" in 2018 was \" + str(life_exp_2018[i]) + \" years.\"\n",
    "        )"
   ]
  },
  {
   "cell_type": "markdown",
   "metadata": {},
   "source": [
    "## Part E: Calculate Total GDP\n",
    "\n",
    "The total GDP for a country is equal to its per capita GDP multiplied by its population. In the cell below, write code to create a list called `gdp_2018`. Each element of the cell should contain the total GDP of a single country in 2018. The order of the elements in this new list should match that of the other lists for the 2018 data. "
   ]
  },
  {
   "cell_type": "code",
   "execution_count": 10,
   "metadata": {},
   "outputs": [],
   "source": [
    "gdp_2018 = []\n",
    "\n",
    "for i in range(0, len(pop_2018)):\n",
    "    gdp = pcgdp_2018[i] * pop_2018[i]\n",
    "    gdp_2018.append(gdp)"
   ]
  },
  {
   "cell_type": "markdown",
   "metadata": {},
   "source": [
    "Print the sum of the list `gdp_2018`. If you have completed this task correctly, you should get slightly over 118 trillion dollars."
   ]
  },
  {
   "cell_type": "code",
   "execution_count": 11,
   "metadata": {},
   "outputs": [
    {
     "name": "stdout",
     "output_type": "stream",
     "text": [
      "118225647770000\n"
     ]
    }
   ],
   "source": [
    "print(sum(gdp_2018))"
   ]
  },
  {
   "cell_type": "markdown",
   "metadata": {},
   "source": [
    "Use the cell below to find the country with the highest GDP in 2018, as well as the country with the lowest GDP in 2018. Print your results in the following format:\n",
    "\n",
    "\n",
    "    The country with the highest GDP in 2018 was xxxxx with a GDP of xxxxx.\n",
    "    The country with the lowest GDP in 2018 was xxxxx with a GDP of xxxxx.\n",
    "    \n",
    "   "
   ]
  },
  {
   "cell_type": "code",
   "execution_count": 12,
   "metadata": {},
   "outputs": [
    {
     "name": "stdout",
     "output_type": "stream",
     "text": [
      "The country with the highest GDP in 2018 was Chinawith a GDP of 22720000000000.\n",
      "The country with the lowest GDP in 2018 was Kiribatiwith a GDP of 223020000.\n"
     ]
    }
   ],
   "source": [
    "gdp_2018.index(max(gdp_2018))\n",
    "gdp_2018.index(min(gdp_2018))\n",
    "\n",
    "print(\"The country with the highest GDP in 2018 was \" + country[gdp_2018.index(max(gdp_2018))] +\n",
    "      \"with a GDP of \" + str(gdp_2018[gdp_2018.index(max(gdp_2018))]) + \".\" +\n",
    "      \"\\nThe country with the lowest GDP in 2018 was \" + country[gdp_2018.index(min(gdp_2018))] +\n",
    "      \"with a GDP of \" + str(gdp_2018[gdp_2018.index(min(gdp_2018))]) + \".\")\n"
   ]
  },
  {
   "cell_type": "markdown",
   "metadata": {},
   "source": [
    "## Part F: Grouping by Continent \n",
    "\n",
    "The countries in this dataset are grouped into 5 continental regions: `'africa'`, `'americas'`, `'asia'`, and `'europe'`. In this part of the project, we are going to calculate the total population, per capita GDP, and average life expectency for each of these regions in 2018. \n",
    "\n",
    "For convenience, we create a list containing the five regions in the cell below. "
   ]
  },
  {
   "cell_type": "code",
   "execution_count": 13,
   "metadata": {},
   "outputs": [],
   "source": [
    "continent_names = ['africa', 'americas', 'asia', 'europe']"
   ]
  },
  {
   "cell_type": "markdown",
   "metadata": {},
   "source": [
    "Perform the following tasks in the cell below:\n",
    "\n",
    "1. Create three empty lists: `pcgdp_2018_by_continent`, `pop_2018_by_continent`, `life_exp_2018_by_continent`. \n",
    "\n",
    "2. Loop over the elements of `continent_names`, considering a single continent during each iteration. Each time this loop excecutes, do the following:\n",
    "\n",
    "    * Create temp variables called `temp_life_exp`, `temp_pop`, and `temp_gdp`. Initialize all three variables to 0. \n",
    "    * Loop over all 184 countries in the 2018 data. Each time this loop executes, check to see if the given country is in the continent that we are currently considering. If it is, then update the three temp variables. When you are done `temp_pop` should contain the total population for countries in the given continent and `temp_gdp` should contain the total GDP for countries in the given continent. The `temp_life_exp` variable should contain the weighted sum of the life expectencies for the countries in the given continent, with population being used as the weight. \n",
    "    \n",
    "    * After looping over all 184 countires, divide both `temp_life_exp` and `temp_gdp` by `temp_pop`, storing the results back into the variables `temp_life_exp` and `temp_gdp`**. \n",
    "    \n",
    "    * Round `temp_gdp` to the nearest whole number, and round `temp_life_exp` to 1 decimal place.\n",
    "    \n",
    "    * Append the values of the three temp variables into the lists created in Step 1 above. \n",
    "   \n"
   ]
  },
  {
   "cell_type": "code",
   "execution_count": 14,
   "metadata": {},
   "outputs": [],
   "source": [
    "pcgdp_2018_by_continent = []\n",
    "pop_2018_by_continent = []\n",
    "life_exp_2018_by_continent = []\n",
    "\n",
    "for i in range(0,len(continent_names)):\n",
    "    temp_life_exp = 0\n",
    "    temp_pop = 0\n",
    "    temp_gdp = 0\n",
    "    for n in range(0, len(country_2018)):\n",
    "        if continent_names[i] == continent_2018[n]:\n",
    "            temp_life_exp += life_exp_2018[n] * pop_2018[n]\n",
    "            temp_pop += pop_2018[n]\n",
    "            temp_gdp += pcgdp_2018[n] * pop_2018[n]\n",
    "    temp_life_exp = round(temp_life_exp / temp_pop,1)\n",
    "    temp_gdp = round(temp_gdp / temp_pop, 0)\n",
    "    pcgdp_2018_by_continent.append(temp_gdp)\n",
    "    pop_2018_by_continent.append(temp_pop)\n",
    "    life_exp_2018_by_continent.append(temp_life_exp)  "
   ]
  },
  {
   "cell_type": "markdown",
   "metadata": {},
   "source": [
    "Run the cell below to print the results from the previous cell in a table format. "
   ]
  },
  {
   "cell_type": "code",
   "execution_count": 15,
   "metadata": {},
   "outputs": [
    {
     "name": "stdout",
     "output_type": "stream",
     "text": [
      "Continent    Population      pcGDP    LifeExp\n",
      "----------------------------------------------\n",
      "Africa       1287150200     4700.0       65.9\n",
      "Americas     1010978000    28708.0       77.5\n",
      "Asia         4455113000    12705.0       73.2\n",
      "Europe        841959000    31534.0       78.4\n"
     ]
    }
   ],
   "source": [
    "header = '{:<10} {:>12} {:>10} {:>10}'.format('Continent', 'Population', 'pcGDP', 'LifeExp')\n",
    "print(header)\n",
    "print('----------------------------------------------')\n",
    "\n",
    "for i in range(len(continent_names)):\n",
    "    line = '{:<10} {:>12} {:>10} {:>10}'.format(\n",
    "        continent_names[i].title(),\n",
    "        pop_2018_by_continent[i],\n",
    "        pcgdp_2018_by_continent[i],\n",
    "        life_exp_2018_by_continent[i],1)\n",
    "    \n",
    "    print(line)"
   ]
  },
  {
   "cell_type": "markdown",
   "metadata": {},
   "source": [
    "Run the cell below as-is to generate bar charts representing the grouped continent data. "
   ]
  },
  {
   "cell_type": "code",
   "execution_count": 16,
   "metadata": {},
   "outputs": [
    {
     "data": {
      "image/png": "[encoded data removed]",
      "text/plain": [
       "<Figure size 1296x288 with 3 Axes>"
      ]
     },
     "metadata": {
      "needs_background": "light"
     },
     "output_type": "display_data"
    }
   ],
   "source": [
    "import matplotlib.pyplot as plt\n",
    "\n",
    "plt.rcParams[\"figure.figsize\"] = [18,4]\n",
    "plt.subplot(1,3,1)\n",
    "\n",
    "plt.bar(range(4), pop_2018_by_continent, color='cornflowerblue', edgecolor='k')\n",
    "plt.xticks(range(4), continent_names)\n",
    "plt.ylabel('Population')\n",
    "plt.title('Population by Continent (2018)')\n",
    "\n",
    "plt.subplot(1,3,2)\n",
    "plt.bar(range(4), pcgdp_2018_by_continent, color='orchid', edgecolor='k')\n",
    "plt.xticks(range(4), continent_names)\n",
    "plt.ylabel('Per Capita GDP')\n",
    "plt.title('Per Capita GDP by Continent (2018)')\n",
    "\n",
    "plt.subplot(1,3,3)\n",
    "plt.bar(range(4), life_exp_2018_by_continent, color='salmon', edgecolor='k')\n",
    "plt.xticks(range(4), continent_names)\n",
    "plt.ylabel('Life Expectency')\n",
    "plt.title('Life Expectency by Continent (2018)')\n",
    "\n",
    "plt.show()"
   ]
  }
 ],
 "metadata": {
  "kernelspec": {
   "display_name": "Python 3",
   "language": "python",
   "name": "python3"
  },
  "language_info": {
   "codemirror_mode": {
    "name": "ipython",
    "version": 3
   },
   "file_extension": ".py",
   "mimetype": "text/x-python",
   "name": "python",
   "nbconvert_exporter": "python",
   "pygments_lexer": "ipython3",
   "version": "3.7.6"
  }
 },
 "nbformat": 4,
 "nbformat_minor": 4
}
